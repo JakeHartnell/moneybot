{
 "cells": [
  {
   "cell_type": "code",
   "execution_count": 99,
   "metadata": {
    "autoscroll": "json-false",
    "ein.tags": [
     "worksheet-0"
    ],
    "slideshow": {
     "slide_type": "-"
    }
   },
   "outputs": [
    {
     "name": "stdout",
     "output_type": "stream",
     "text": [
      "Populating the interactive namespace from numpy and matplotlib\n"
     ]
    }
   ],
   "source": [
    "%pylab inline\n",
    "import pandas as pd\n",
    "# import jtplot submodule from jupyterthemes\n",
    "from jupyterthemes import jtplot\n",
    "# currently installed theme will be used to\n",
    "# set plot style if no arguments provided\n",
    "jtplot.style()"
   ]
  },
  {
   "cell_type": "code",
   "execution_count": 100,
   "metadata": {
    "autoscroll": "json-false",
    "ein.tags": [
     "worksheet-0"
    ],
    "slideshow": {
     "slide_type": "-"
    }
   },
   "outputs": [],
   "source": [
    "perfs = pd.read_csv('equal-weight-strategies-perfs.csv')\n",
    "perfs = perfs.drop(['Unnamed: 0', 'count'], axis=1)"
   ]
  },
  {
   "cell_type": "code",
   "execution_count": 101,
   "metadata": {
    "autoscroll": "json-false",
    "ein.tags": [
     "worksheet-0"
    ],
    "slideshow": {
     "slide_type": "-"
    }
   },
   "outputs": [
    {
     "data": {
      "text/html": [
       "<div>\n",
       "<table border=\"1\" class=\"dataframe\">\n",
       "  <thead>\n",
       "    <tr style=\"text-align: right;\">\n",
       "      <th></th>\n",
       "      <th>mean</th>\n",
       "      <th>std</th>\n",
       "      <th>min</th>\n",
       "      <th>25%</th>\n",
       "      <th>50%</th>\n",
       "      <th>75%</th>\n",
       "      <th>max</th>\n",
       "      <th>sterling_ratio</th>\n",
       "      <th>market_condition</th>\n",
       "      <th>trading_frequency</th>\n",
       "      <th>strategy</th>\n",
       "    </tr>\n",
       "  </thead>\n",
       "  <tbody>\n",
       "    <tr>\n",
       "      <th>14</th>\n",
       "      <td>0.531004</td>\n",
       "      <td>0.790729</td>\n",
       "      <td>-0.211682</td>\n",
       "      <td>0.020876</td>\n",
       "      <td>0.158653</td>\n",
       "      <td>0.717482</td>\n",
       "      <td>2.029541</td>\n",
       "      <td>7.510024</td>\n",
       "      <td>all</td>\n",
       "      <td>twenty-four-hour</td>\n",
       "      <td>peakriderstrategy</td>\n",
       "    </tr>\n",
       "    <tr>\n",
       "      <th>13</th>\n",
       "      <td>0.516556</td>\n",
       "      <td>0.769131</td>\n",
       "      <td>-0.211682</td>\n",
       "      <td>0.028394</td>\n",
       "      <td>0.146664</td>\n",
       "      <td>0.702457</td>\n",
       "      <td>1.989983</td>\n",
       "      <td>7.266043</td>\n",
       "      <td>all</td>\n",
       "      <td>twenty-four-hour</td>\n",
       "      <td>buffedcoinstrategy</td>\n",
       "    </tr>\n",
       "    <tr>\n",
       "      <th>10</th>\n",
       "      <td>0.514576</td>\n",
       "      <td>0.775704</td>\n",
       "      <td>-0.216898</td>\n",
       "      <td>0.029210</td>\n",
       "      <td>0.152678</td>\n",
       "      <td>0.641600</td>\n",
       "      <td>2.331174</td>\n",
       "      <td>6.842526</td>\n",
       "      <td>all</td>\n",
       "      <td>twelve-hour</td>\n",
       "      <td>buffedcoinstrategy</td>\n",
       "    </tr>\n",
       "    <tr>\n",
       "      <th>8</th>\n",
       "      <td>0.556984</td>\n",
       "      <td>0.871561</td>\n",
       "      <td>-0.257140</td>\n",
       "      <td>0.020682</td>\n",
       "      <td>0.180783</td>\n",
       "      <td>0.652700</td>\n",
       "      <td>2.682119</td>\n",
       "      <td>6.330875</td>\n",
       "      <td>all</td>\n",
       "      <td>six-hour</td>\n",
       "      <td>peakriderstrategy</td>\n",
       "    </tr>\n",
       "    <tr>\n",
       "      <th>7</th>\n",
       "      <td>0.557846</td>\n",
       "      <td>0.882946</td>\n",
       "      <td>-0.260039</td>\n",
       "      <td>0.017855</td>\n",
       "      <td>0.189226</td>\n",
       "      <td>0.643004</td>\n",
       "      <td>2.758506</td>\n",
       "      <td>6.323105</td>\n",
       "      <td>all</td>\n",
       "      <td>six-hour</td>\n",
       "      <td>buffedcoinstrategy</td>\n",
       "    </tr>\n",
       "  </tbody>\n",
       "</table>\n",
       "</div>"
      ],
      "text/plain": [
       "        mean       std       min       25%       50%       75%       max  \\\n",
       "14  0.531004  0.790729 -0.211682  0.020876  0.158653  0.717482  2.029541   \n",
       "13  0.516556  0.769131 -0.211682  0.028394  0.146664  0.702457  1.989983   \n",
       "10  0.514576  0.775704 -0.216898  0.029210  0.152678  0.641600  2.331174   \n",
       "8   0.556984  0.871561 -0.257140  0.020682  0.180783  0.652700  2.682119   \n",
       "7   0.557846  0.882946 -0.260039  0.017855  0.189226  0.643004  2.758506   \n",
       "\n",
       "    sterling_ratio market_condition trading_frequency            strategy  \n",
       "14        7.510024              all  twenty-four-hour   peakriderstrategy  \n",
       "13        7.266043              all  twenty-four-hour  buffedcoinstrategy  \n",
       "10        6.842526              all       twelve-hour  buffedcoinstrategy  \n",
       "8         6.330875              all          six-hour   peakriderstrategy  \n",
       "7         6.323105              all          six-hour  buffedcoinstrategy  "
      ]
     },
     "execution_count": 101,
     "metadata": {},
     "output_type": "execute_result"
    }
   ],
   "source": [
    "perfs.sort_values('sterling_ratio', ascending=False).head()\n"
   ]
  },
  {
   "cell_type": "code",
   "execution_count": 102,
   "metadata": {
    "autoscroll": "json-false",
    "ein.tags": [
     "worksheet-0"
    ],
    "slideshow": {
     "slide_type": "-"
    }
   },
   "outputs": [
    {
     "data": {
      "text/html": [
       "<div>\n",
       "<table border=\"1\" class=\"dataframe\">\n",
       "  <thead>\n",
       "    <tr style=\"text-align: right;\">\n",
       "      <th></th>\n",
       "      <th>mean</th>\n",
       "      <th>std</th>\n",
       "      <th>min</th>\n",
       "      <th>25%</th>\n",
       "      <th>50%</th>\n",
       "      <th>75%</th>\n",
       "      <th>max</th>\n",
       "      <th>sterling_ratio</th>\n",
       "      <th>market_condition</th>\n",
       "      <th>trading_frequency</th>\n",
       "      <th>strategy</th>\n",
       "    </tr>\n",
       "  </thead>\n",
       "  <tbody>\n",
       "    <tr>\n",
       "      <th>4</th>\n",
       "      <td>0.563940</td>\n",
       "      <td>0.945532</td>\n",
       "      <td>-0.287097</td>\n",
       "      <td>0.017935</td>\n",
       "      <td>0.120934</td>\n",
       "      <td>0.622768</td>\n",
       "      <td>2.913061</td>\n",
       "      <td>5.433641</td>\n",
       "      <td>all</td>\n",
       "      <td>three-hour</td>\n",
       "      <td>buffedcoinstrategy</td>\n",
       "    </tr>\n",
       "    <tr>\n",
       "      <th>5</th>\n",
       "      <td>0.563632</td>\n",
       "      <td>0.935457</td>\n",
       "      <td>-0.285547</td>\n",
       "      <td>0.017646</td>\n",
       "      <td>0.126567</td>\n",
       "      <td>0.613218</td>\n",
       "      <td>2.805151</td>\n",
       "      <td>5.471013</td>\n",
       "      <td>all</td>\n",
       "      <td>three-hour</td>\n",
       "      <td>peakriderstrategy</td>\n",
       "    </tr>\n",
       "    <tr>\n",
       "      <th>7</th>\n",
       "      <td>0.557846</td>\n",
       "      <td>0.882946</td>\n",
       "      <td>-0.260039</td>\n",
       "      <td>0.017855</td>\n",
       "      <td>0.189226</td>\n",
       "      <td>0.643004</td>\n",
       "      <td>2.758506</td>\n",
       "      <td>6.323105</td>\n",
       "      <td>all</td>\n",
       "      <td>six-hour</td>\n",
       "      <td>buffedcoinstrategy</td>\n",
       "    </tr>\n",
       "    <tr>\n",
       "      <th>8</th>\n",
       "      <td>0.556984</td>\n",
       "      <td>0.871561</td>\n",
       "      <td>-0.257140</td>\n",
       "      <td>0.020682</td>\n",
       "      <td>0.180783</td>\n",
       "      <td>0.652700</td>\n",
       "      <td>2.682119</td>\n",
       "      <td>6.330875</td>\n",
       "      <td>all</td>\n",
       "      <td>six-hour</td>\n",
       "      <td>peakriderstrategy</td>\n",
       "    </tr>\n",
       "    <tr>\n",
       "      <th>1</th>\n",
       "      <td>0.543056</td>\n",
       "      <td>0.943758</td>\n",
       "      <td>-0.419951</td>\n",
       "      <td>-0.039815</td>\n",
       "      <td>0.159696</td>\n",
       "      <td>0.724327</td>\n",
       "      <td>2.685221</td>\n",
       "      <td>3.690599</td>\n",
       "      <td>all</td>\n",
       "      <td>one-hour</td>\n",
       "      <td>buffedcoinstrategy</td>\n",
       "    </tr>\n",
       "  </tbody>\n",
       "</table>\n",
       "</div>"
      ],
      "text/plain": [
       "       mean       std       min       25%       50%       75%       max  \\\n",
       "4  0.563940  0.945532 -0.287097  0.017935  0.120934  0.622768  2.913061   \n",
       "5  0.563632  0.935457 -0.285547  0.017646  0.126567  0.613218  2.805151   \n",
       "7  0.557846  0.882946 -0.260039  0.017855  0.189226  0.643004  2.758506   \n",
       "8  0.556984  0.871561 -0.257140  0.020682  0.180783  0.652700  2.682119   \n",
       "1  0.543056  0.943758 -0.419951 -0.039815  0.159696  0.724327  2.685221   \n",
       "\n",
       "   sterling_ratio market_condition trading_frequency            strategy  \n",
       "4        5.433641              all        three-hour  buffedcoinstrategy  \n",
       "5        5.471013              all        three-hour   peakriderstrategy  \n",
       "7        6.323105              all          six-hour  buffedcoinstrategy  \n",
       "8        6.330875              all          six-hour   peakriderstrategy  \n",
       "1        3.690599              all          one-hour  buffedcoinstrategy  "
      ]
     },
     "execution_count": 102,
     "metadata": {},
     "output_type": "execute_result"
    }
   ],
   "source": [
    "perfs.sort_values('mean', ascending=False).head()\n"
   ]
  },
  {
   "cell_type": "code",
   "execution_count": 103,
   "metadata": {
    "autoscroll": "json-false",
    "ein.tags": [
     "worksheet-0"
    ],
    "slideshow": {
     "slide_type": "-"
    }
   },
   "outputs": [
    {
     "data": {
      "text/plain": [
       "<matplotlib.axes._subplots.AxesSubplot at 0x108675668>"
      ]
     },
     "execution_count": 103,
     "metadata": {},
     "output_type": "execute_result"
    },
    {
     "data": {
      "image/png": "[encoded data removed]",
      "text/plain": [
       "<matplotlib.figure.Figure at 0x1091ec898>"
      ]
     },
     "metadata": {},
     "output_type": "display_data"
    }
   ],
   "source": [
    "perfs.groupby('trading_frequency').mean()['sterling_ratio'].plot()\n"
   ]
  },
  {
   "cell_type": "code",
   "execution_count": 104,
   "metadata": {
    "autoscroll": "json-false",
    "ein.tags": [
     "worksheet-0"
    ],
    "slideshow": {
     "slide_type": "-"
    }
   },
   "outputs": [
    {
     "data": {
      "text/plain": [
       "<matplotlib.axes._subplots.AxesSubplot at 0x1094c51d0>"
      ]
     },
     "execution_count": 104,
     "metadata": {},
     "output_type": "execute_result"
    },
    {
     "data": {
      "image/png": "[encoded data removed]",
      "text/plain": [
       "<matplotlib.figure.Figure at 0x1083f5f60>"
      ]
     },
     "metadata": {},
     "output_type": "display_data"
    }
   ],
   "source": [
    "perfs.groupby('trading_frequency').mean()['min'].plot()\n"
   ]
  },
  {
   "cell_type": "code",
   "execution_count": 106,
   "metadata": {
    "autoscroll": "json-false",
    "ein.tags": [
     "worksheet-0"
    ],
    "slideshow": {
     "slide_type": "-"
    }
   },
   "outputs": [
    {
     "data": {
      "text/html": [
       "<div>\n",
       "<table border=\"1\" class=\"dataframe\">\n",
       "  <thead>\n",
       "    <tr style=\"text-align: right;\">\n",
       "      <th></th>\n",
       "      <th>mean</th>\n",
       "      <th>std</th>\n",
       "      <th>min</th>\n",
       "      <th>25%</th>\n",
       "      <th>50%</th>\n",
       "      <th>75%</th>\n",
       "      <th>max</th>\n",
       "      <th>sterling_ratio</th>\n",
       "    </tr>\n",
       "    <tr>\n",
       "      <th>strategy</th>\n",
       "      <th></th>\n",
       "      <th></th>\n",
       "      <th></th>\n",
       "      <th></th>\n",
       "      <th></th>\n",
       "      <th></th>\n",
       "      <th></th>\n",
       "      <th></th>\n",
       "    </tr>\n",
       "  </thead>\n",
       "  <tbody>\n",
       "    <tr>\n",
       "      <th>buffedcoinstrategy</th>\n",
       "      <td>0.516556</td>\n",
       "      <td>0.769131</td>\n",
       "      <td>-0.211682</td>\n",
       "      <td>0.028394</td>\n",
       "      <td>0.146664</td>\n",
       "      <td>0.702457</td>\n",
       "      <td>1.989983</td>\n",
       "      <td>7.266043</td>\n",
       "    </tr>\n",
       "    <tr>\n",
       "      <th>buyholdstrategy</th>\n",
       "      <td>0.449894</td>\n",
       "      <td>0.730182</td>\n",
       "      <td>-0.209816</td>\n",
       "      <td>-0.007216</td>\n",
       "      <td>0.112282</td>\n",
       "      <td>0.570319</td>\n",
       "      <td>2.007246</td>\n",
       "      <td>4.337198</td>\n",
       "    </tr>\n",
       "    <tr>\n",
       "      <th>peakriderstrategy</th>\n",
       "      <td>0.531004</td>\n",
       "      <td>0.790729</td>\n",
       "      <td>-0.211682</td>\n",
       "      <td>0.020876</td>\n",
       "      <td>0.158653</td>\n",
       "      <td>0.717482</td>\n",
       "      <td>2.029541</td>\n",
       "      <td>7.510024</td>\n",
       "    </tr>\n",
       "  </tbody>\n",
       "</table>\n",
       "</div>"
      ],
      "text/plain": [
       "                        mean       std       min       25%       50%  \\\n",
       "strategy                                                               \n",
       "buffedcoinstrategy  0.516556  0.769131 -0.211682  0.028394  0.146664   \n",
       "buyholdstrategy     0.449894  0.730182 -0.209816 -0.007216  0.112282   \n",
       "peakriderstrategy   0.531004  0.790729 -0.211682  0.020876  0.158653   \n",
       "\n",
       "                         75%       max  sterling_ratio  \n",
       "strategy                                                \n",
       "buffedcoinstrategy  0.702457  1.989983        7.266043  \n",
       "buyholdstrategy     0.570319  2.007246        4.337198  \n",
       "peakriderstrategy   0.717482  2.029541        7.510024  "
      ]
     },
     "execution_count": 106,
     "metadata": {},
     "output_type": "execute_result"
    }
   ],
   "source": [
    "\n",
    "perfs[perfs['trading_frequency'] == 'twenty-four-hour'] \\\n",
    ".groupby('strategy') \\\n",
    ".mean()\n"
   ]
  },
  {
   "cell_type": "code",
   "execution_count": 0,
   "metadata": {
    "autoscroll": "json-false",
    "ein.tags": [
     "worksheet-0"
    ],
    "slideshow": {
     "slide_type": "-"
    }
   },
   "outputs": [],
   "source": []
  }
 ],
 "metadata": {
  "kernelspec": {
   "display_name": "Python 3",
   "language": "python",
   "name": "python3"
  },
  "language_info": {
   "codemirror_mode": {
    "name": "ipython",
    "version": 3
   },
   "file_extension": ".py",
   "mimetype": "text/x-python",
   "name": "python",
   "nbconvert_exporter": "python",
   "pygments_lexer": "ipython3",
   "version": "3.6.0"
  },
  "name": "Evaluating equal-weight fund performance.ipynb"
 },
 "nbformat": 4,
 "nbformat_minor": 2
}
